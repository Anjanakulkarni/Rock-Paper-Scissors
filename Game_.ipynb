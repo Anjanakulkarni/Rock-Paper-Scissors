{
  "nbformat": 4,
  "nbformat_minor": 0,
  "metadata": {
    "colab": {
      "provenance": []
    },
    "kernelspec": {
      "name": "python3",
      "display_name": "Python 3"
    },
    "language_info": {
      "name": "python"
    }
  },
  "cells": [
    {
      "cell_type": "code",
      "execution_count": 1,
      "metadata": {
        "colab": {
          "base_uri": "https://localhost:8080/"
        },
        "id": "G9vRo4gu9j5J",
        "outputId": "f4021c6a-cc6b-4cad-d832-12516178dd60"
      },
      "outputs": [
        {
          "output_type": "stream",
          "name": "stdout",
          "text": [
            "Rock, Paper or  Scissors?Rock\n",
            "You win! Rock smashes Scissors\n",
            "Rock, Paper or  Scissors?Paper\n",
            "You lose! Scissors cut Paper\n",
            "Rock, Paper or  Scissors?Scissors\n",
            "Tie!\n",
            "Rock, Paper or  Scissors?Final scores\n",
            "Rock, Paper or  Scissors?Final Scores\n",
            "Rock, Paper or  Scissors?End\n",
            "Final Scores:\n",
            "AK:1\n",
            "AA:1\n"
          ]
        }
      ],
      "source": [
        "import random\n",
        "choices = [\"Rock\", \"Paper\", \"Scissors\"]\n",
        "computer = random.choice(choices)\n",
        "player = False\n",
        "cpu_score = 0\n",
        "player_score = 0\n",
        "while True:\n",
        "    player = input(\"Rock, Paper or  Scissors?\").capitalize()\n",
        "    ## Conditions of Rock,Paper and Scissors\n",
        "    if player == computer:\n",
        "        print(\"Tie!\")\n",
        "    elif player == \"Rock\":\n",
        "        if computer == \"Paper\":\n",
        "            print(\"You lose!\", computer, \"covers\", player)\n",
        "            cpu_score+=1\n",
        "        else:\n",
        "            print(\"You win!\", player, \"smashes\", computer)\n",
        "            player_score+=1\n",
        "    elif player == \"Paper\":\n",
        "        if computer == \"Scissors\":\n",
        "            print(\"You lose!\", computer, \"cut\", player)\n",
        "            cpu_score+=1\n",
        "        else:\n",
        "            print(\"You win!\", player, \"covers\", computer)\n",
        "            player_score+=1\n",
        "    elif player == \"Scissors\":\n",
        "        if computer == \"Rock\":\n",
        "            print(\"You lose...\", computer, \"smashes\", player)\n",
        "            cpu_score+=1\n",
        "        else:\n",
        "            print(\"You win!\", player, \"cut\", computer)\n",
        "            player_score+=1\n",
        "    elif player=='End':\n",
        "        print(\"Final Scores:\")\n",
        "        print(f\"AK:{cpu_score}\")\n",
        "        print(f\"AA:{player_score}\")\n",
        "        break"
      ]
    }
  ]
}